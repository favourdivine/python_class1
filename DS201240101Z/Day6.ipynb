{
 "cells": [
  {
   "cell_type": "markdown",
   "id": "f1a364fc",
   "metadata": {},
   "source": [
    "## Range"
   ]
  },
  {
   "cell_type": "code",
   "execution_count": 3,
   "id": "b48c355b",
   "metadata": {},
   "outputs": [
    {
     "name": "stdout",
     "output_type": "stream",
     "text": [
      "1\n",
      "2\n",
      "3\n",
      "4\n",
      "5\n",
      "6\n",
      "7\n",
      "8\n",
      "9\n",
      "10\n"
     ]
    }
   ],
   "source": [
    "## Range implifies by beginning a particular number  to a determined number.\n",
    "for h in range(1,11):\n",
    "    print(h)"
   ]
  },
  {
   "cell_type": "code",
   "execution_count": 8,
   "id": "c9c6b008",
   "metadata": {},
   "outputs": [
    {
     "name": "stdout",
     "output_type": "stream",
     "text": [
      "PLAYER TWO WINS\n",
      " PLAYER ONE SCORE IS : 7\n",
      "PLAYER TWO SCORE IS:9\n",
      "PLAYER TWO WINS\n",
      " PLAYER ONE SCORE IS : 6\n",
      "PLAYER TWO SCORE IS:9\n",
      "PLAYER ONE WINS\n",
      " PLAYER ONE SCORE IS : 10\n",
      "PLAYER TWO SCORE IS:8\n",
      "PLAYER ONE WINS\n",
      " PLAYER ONE SCORE IS : 9\n",
      "PLAYER TWO SCORE IS:5\n",
      "PLAYER ONE WINS\n",
      " PLAYER ONE SCORE IS : 9\n",
      "PLAYER TWO SCORE IS:7\n",
      "PLAYER TWO WINS\n",
      " PLAYER ONE SCORE IS : 5\n",
      "PLAYER TWO SCORE IS:9\n",
      "PLAYER TWO WINS\n",
      " PLAYER ONE SCORE IS : 5\n",
      "PLAYER TWO SCORE IS:7\n",
      "PLAYER ONE WINS\n",
      " PLAYER ONE SCORE IS : 9\n",
      "PLAYER TWO SCORE IS:6\n",
      "PLAYER TWO WINS\n",
      " PLAYER ONE SCORE IS : 6\n",
      "PLAYER TWO SCORE IS:9\n",
      "PLAYER TWO WINS\n",
      " PLAYER ONE SCORE IS : 9\n",
      "PLAYER TWO SCORE IS:10\n",
      "PLAYER TWO THE OVERALL WINNER BY 30 POINT\n"
     ]
    }
   ],
   "source": [
    "score1=0\n",
    "score2=0\n",
    "import random\n",
    "for q in range(1,11):\n",
    "    dice1=(random.randint(1,6) + random.randint(1,6))\n",
    "    dice2=(random.randint(1,6) + random.randint(1,6))\n",
    "    \n",
    "    if dice1 > dice2:\n",
    "        score1 += 5\n",
    "        print(\"PLAYER ONE WINS\")\n",
    "        print(f\" PLAYER ONE SCORE IS : {dice1}\")\n",
    "        print(f\"PLAYER TWO SCORE IS:{dice2}\")\n",
    "    elif dice2 > dice1:\n",
    "        score2+= 5\n",
    "        print(\"PLAYER TWO WINS\")\n",
    "        print(f\" PLAYER ONE SCORE IS : {dice1}\")\n",
    "        print(f\"PLAYER TWO SCORE IS:{dice2}\")\n",
    "    elif dice1 == dice2:\n",
    "        score1 += 1\n",
    "        score2+= 1\n",
    "        print(\"DRAWS\")\n",
    "        print(f\" PLAYER ONE SCORE IS : {dice1}\")\n",
    "        print(f\"PLAYER TWO SCORE IS:{dice2}\")   \n",
    "if score1 > score2:\n",
    "    print(f\"PLAYER ONE IS THE OVERALL WINNER BY {score1} POINT\")\n",
    "elif score2> score1:\n",
    "    print(f\"PLAYER TWO THE OVERALL WINNER BY {score2} POINT\")\n",
    "elif score2 == score1:\n",
    "    print(F\"Draw Player one score is :{score1},Player Two Score is {score2} point\")"
   ]
  },
  {
   "cell_type": "markdown",
   "id": "35fbe836",
   "metadata": {},
   "source": [
    "## FUNCTIONS"
   ]
  },
  {
   "cell_type": "code",
   "execution_count": 10,
   "id": "5616dc83",
   "metadata": {},
   "outputs": [
    {
     "name": "stdout",
     "output_type": "stream",
     "text": [
      "Welcome to python class\n"
     ]
    }
   ],
   "source": [
    "def greet():\n",
    "    print(\"Welcome to python class\")\n",
    "greet()"
   ]
  },
  {
   "cell_type": "code",
   "execution_count": 12,
   "id": "621764a9",
   "metadata": {},
   "outputs": [
    {
     "name": "stdout",
     "output_type": "stream",
     "text": [
      "Welcome to python class Grace\n"
     ]
    }
   ],
   "source": [
    "def greet2(name):\n",
    "    print(f'Welcome to python class {name}')\n",
    "greet2(\"Grace\")"
   ]
  },
  {
   "cell_type": "code",
   "execution_count": 13,
   "id": "b3de5efe",
   "metadata": {},
   "outputs": [
    {
     "name": "stdout",
     "output_type": "stream",
     "text": [
      "_____CITIZEN DETAILS_______\n",
      "    \"Name\":John\n",
      "    \"AGE\":22\n",
      "    \"Gender\":male\n",
      "   \n",
      "YOU ARE ELIGIBLE TO VOTE\n"
     ]
    }
   ],
   "source": [
    "def vote(name,age,gender):\n",
    "    print(f\"\"\"_____CITIZEN DETAILS_______\n",
    "    \"Name\":{name}\n",
    "    \"AGE\":{age}\n",
    "    \"Gender\":{gender}\n",
    "   \"\"\")\n",
    "    if age > 18:\n",
    "        print(\"YOU ARE ELIGIBLE TO VOTE\")\n",
    "    else:\n",
    "        print(\"You are not eligible to vote....\")\n",
    "vote(\"John\",22,\"male\")"
   ]
  },
  {
   "cell_type": "code",
   "execution_count": 16,
   "id": "f0c49b99",
   "metadata": {},
   "outputs": [
    {
     "name": "stdout",
     "output_type": "stream",
     "text": [
      "_____CITIZEN DETAILS_______\n",
      "    \"Name\":John\n",
      "    \"AGE\":19\n",
      "    \"Gender\":male\n",
      "   \n",
      "YOU ARE ELIGIBLE TO VOTE\n"
     ]
    }
   ],
   "source": [
    "def vote(name,gender,age=18):## default parameter set the age in a static mode\n",
    "    print(f\"\"\"_____CITIZEN DETAILS_______\n",
    "    \"Name\":{name}\n",
    "    \"AGE\":{age}\n",
    "    \"Gender\":{gender}\n",
    "   \"\"\")\n",
    "    if age > 18:\n",
    "        print(\"YOU ARE ELIGIBLE TO VOTE\")\n",
    "    else:\n",
    "        print(\"You are not eligible to vote....\")\n",
    "vote(\"John\",\"male\",19)"
   ]
  },
  {
   "cell_type": "code",
   "execution_count": 28,
   "id": "bf457174",
   "metadata": {},
   "outputs": [
    {
     "name": "stdout",
     "output_type": "stream",
     "text": [
      "_____CITIZEN DETAILS_______\n",
      "    \"Name\":John\n",
      "    \"AGE\":18\n",
      "    \"Gender\":male\n",
      "    \"Height\":1.97\n",
      "   \n",
      "YOU ARE ELIGIBLE TO VOTE\n"
     ]
    }
   ],
   "source": [
    "def vote(name,gender=\"female\",age=18,height=1.97):## default parameter set the age in a static mode\n",
    "    print(f\"\"\"_____CITIZEN DETAILS_______\n",
    "    \"Name\":{name}\n",
    "    \"AGE\":{age}\n",
    "    \"Gender\":{gender}\n",
    "    \"Height\":{height}\n",
    "   \"\"\")\n",
    "    if age >= 18 and height >= 1.97:\n",
    "        print(\"YOU ARE ELIGIBLE TO VOTE\")\n",
    "    else:\n",
    "        print(\"You are not eligible to vote....\")\n",
    "vote(\"John\",\"male\",18,1.97)"
   ]
  },
  {
   "cell_type": "code",
   "execution_count": 32,
   "id": "9a3ecac0",
   "metadata": {},
   "outputs": [
    {
     "name": "stdout",
     "output_type": "stream",
     "text": [
      "______Booking UINQUIRY____\n",
      "    \"Event\": wedding\n",
      "    \"Date\": may 15,2024\n",
      "    \"Venue\":major\n",
      "    \n",
      "Unfortunately , major is not avaialable for you event!!\n"
     ]
    }
   ],
   "source": [
    "def booking(event,date, venue=\"Main Hall\"):\n",
    "    print(f\"\"\"______Booking UINQUIRY____\n",
    "    \"Event\": {event}\n",
    "    \"Date\": {date}\n",
    "    \"Venue\":{venue}\n",
    "    \"\"\")\n",
    "    if venue == \"Main Hall\":\n",
    "        print(\"The main hall is available for your event!\")\n",
    "    else:\n",
    "        print(f\"Unfortunately , {venue} is not avaialable for you event!!\")\n",
    "booking(\"wedding\",\"may 15,2024\",\"major\")"
   ]
  },
  {
   "cell_type": "code",
   "execution_count": null,
   "id": "1c68fae3",
   "metadata": {},
   "outputs": [],
   "source": []
  }
 ],
 "metadata": {
  "kernelspec": {
   "display_name": "Python 3 (ipykernel)",
   "language": "python",
   "name": "python3"
  },
  "language_info": {
   "codemirror_mode": {
    "name": "ipython",
    "version": 3
   },
   "file_extension": ".py",
   "mimetype": "text/x-python",
   "name": "python",
   "nbconvert_exporter": "python",
   "pygments_lexer": "ipython3",
   "version": "3.11.5"
  }
 },
 "nbformat": 4,
 "nbformat_minor": 5
}
