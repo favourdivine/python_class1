{
 "cells": [
  {
   "cell_type": "code",
   "execution_count": 1,
   "id": "71c8e4ba",
   "metadata": {},
   "outputs": [],
   "source": [
    "## Exercise\n",
    "## write a simulation program that has the following attributes\n",
    "## [brand,model,color,year,speed] and the following methods:\n",
    "## [start,change gear,acceration and stop]."
   ]
  },
  {
   "cell_type": "code",
   "execution_count": null,
   "id": "826bfc83",
   "metadata": {},
   "outputs": [],
   "source": [
    "class Rectangle:\n",
    "    def __init__(self, width, height):\n",
    "        self.width = width\n",
    "        self.height = height\n",
    "\n",
    "    def area(self):\n",
    "        return self.width * self.height\n",
    "\n",
    "    def perimeter(self):\n",
    "        return 2 * (self.width + self.height)\n",
    "\n",
    "# Create a Rectangle object\n",
    "rectangle1 = Rectangle(5, 4)\n",
    "\n",
    "# Calculate and print the area\n",
    "print(\"Area:\", rectangle1.area())\n",
    "\n",
    "# Calculate and print the perimeter\n",
    "print(\"Perimeter:\", rectangle1.perimeter())"
   ]
  },
  {
   "cell_type": "code",
   "execution_count": 6,
   "id": "56ab778d",
   "metadata": {},
   "outputs": [],
   "source": [
    "class simulation: ## parent class (old class)\n",
    "    def __init__(self,brand,model,color,year,speed):\n",
    "        self.brand=brand\n",
    "        self.model=model\n",
    "        self.color=color\n",
    "        self.year=year\n",
    "        self.speed=speed\n",
    "    def start(self):\n",
    "        print(f'{self.brand} {self.model} has started')\n",
    "    def gear(self):\n",
    "        option=input(\"choose gear option with,[1,2,3,4,5,R]\")\n",
    "        if option == \"1\":\n",
    "            print(f'Gear changed to one {self.model}')\n",
    "        elif option == \"2\":\n",
    "            print(f'Gear changed to  two {self.model}')\n",
    "        elif option == \"3\":\n",
    "            print(f'Gear changed to  three {self.model}')\n",
    "        elif option == \"4\":\n",
    "            print(f'Gear changed to  four {self.model}')\n",
    "        elif option == \"5\":\n",
    "            print(f'Gear changed to  five {self.model}')\n",
    "        elif option == \"R\":\n",
    "            print(\"Reverse\")\n",
    "    def acceralation(self):\n",
    "        option=input(\"what is your NITRO SELECTION!!![ON,OFF]\")\n",
    "        if option == \"ON\":\n",
    "            print(\"NITRO ENGAGED!!!!!!\")\n",
    "        elif option == \"OFF\":\n",
    "            print(\"Nitro DisEngaged....\")\n",
    "    def stop(self):\n",
    "        print(\"ENGINE OFF\")\n",
    "car1=simulation(\"MERCEDES BENZ\",\"4MATIC E20\",\"BLACK\",2022,\"200MPH\")"
   ]
  },
  {
   "cell_type": "code",
   "execution_count": 4,
   "id": "7b4daca4",
   "metadata": {},
   "outputs": [
    {
     "name": "stdout",
     "output_type": "stream",
     "text": [
      "MERCEDES BENZ 4MATIC E20 has started\n"
     ]
    }
   ],
   "source": [
    "car1.start()"
   ]
  },
  {
   "cell_type": "code",
   "execution_count": 7,
   "id": "9a41ffa6",
   "metadata": {},
   "outputs": [
    {
     "name": "stdout",
     "output_type": "stream",
     "text": [
      "choose gear option with,[1,2,3,4,5,R]5\n",
      "Gear changed to  five 4MATIC E20\n"
     ]
    }
   ],
   "source": [
    "car1.gear()"
   ]
  },
  {
   "cell_type": "code",
   "execution_count": 10,
   "id": "c5028a1d",
   "metadata": {},
   "outputs": [
    {
     "name": "stdout",
     "output_type": "stream",
     "text": [
      "what is your NITRO SELECTION!!![ON,OFF]ON\n",
      "NITRO ENGAGED!!!!!!\n"
     ]
    }
   ],
   "source": [
    "car1.acceralation()"
   ]
  },
  {
   "cell_type": "code",
   "execution_count": 11,
   "id": "a56d9b3d",
   "metadata": {},
   "outputs": [
    {
     "name": "stdout",
     "output_type": "stream",
     "text": [
      "what is your NITRO SELECTION!!![ON,OFF]OFF\n",
      "Nitro DisEngaged....\n"
     ]
    }
   ],
   "source": [
    "car1.acceralation()"
   ]
  },
  {
   "cell_type": "code",
   "execution_count": 12,
   "id": "4999bf80",
   "metadata": {},
   "outputs": [],
   "source": [
    "## INHIRTANCE IN CLASS\n",
    "## ##In object-oriented programming (OOP), inheritance is a mechanism that allows a new class \n",
    "## (called the subclass or derived class) to inherit properties \n",
    "##and behaviors (methods) from an existing class (called the superclass or base class). "
   ]
  },
  {
   "cell_type": "code",
   "execution_count": 16,
   "id": "0362e22f",
   "metadata": {},
   "outputs": [],
   "source": [
    "class simulation2(simulation): ## child class(new class)\n",
    "    def openroof(self):\n",
    "        option=input(\"What is condition[open,close]:\")\n",
    "        if option == \"open\":\n",
    "            print(\" CAR ROOF TOP OPENING....\")\n",
    "        elif option == \"close\":\n",
    "            print(\"Car Roof Top Closed\")\n",
    "    def media(self):\n",
    "        option=input(\"what is your media slection[Radio,Bluetooth,Netflix,Youtube]\")\n",
    "        if option == \"Radio\":\n",
    "            print(\"FM FOUND and now playing...\")\n",
    "        elif option == \"Bluetooth\":\n",
    "            print(\"DEVICE PAIRED and now playing...\")\n",
    "        elif option == \"Netflix\":\n",
    "            print(\"Netflix Displayiny on the screen...\")\n",
    "        elif option == \"Youtube\":\n",
    "            print(\"Youtube is now displaying on the screen...\")\n",
    "car2=simulation2(\"MERCEDES BENZ\",\"4matic E20\",\"BLACK\",2022,\"300MPH\")"
   ]
  },
  {
   "cell_type": "code",
   "execution_count": 17,
   "id": "fb035fd6",
   "metadata": {},
   "outputs": [
    {
     "name": "stdout",
     "output_type": "stream",
     "text": [
      "MERCEDES BENZ 4matic E20 has started\n"
     ]
    }
   ],
   "source": [
    "car2.start()"
   ]
  },
  {
   "cell_type": "code",
   "execution_count": 19,
   "id": "1ca3f5da",
   "metadata": {},
   "outputs": [
    {
     "name": "stdout",
     "output_type": "stream",
     "text": [
      "choose gear option with,[1,2,3,4,5,R]2\n",
      "Gear changed to  two 4matic E20\n"
     ]
    }
   ],
   "source": [
    "car2.gear()"
   ]
  },
  {
   "cell_type": "code",
   "execution_count": 21,
   "id": "ee971e9e",
   "metadata": {},
   "outputs": [
    {
     "name": "stdout",
     "output_type": "stream",
     "text": [
      "What is condition[open,close]:open\n",
      " CAR ROOF TOP OPENING....\n"
     ]
    }
   ],
   "source": [
    "car2.openroof()"
   ]
  },
  {
   "cell_type": "code",
   "execution_count": 22,
   "id": "2e35e7ad",
   "metadata": {},
   "outputs": [
    {
     "name": "stdout",
     "output_type": "stream",
     "text": [
      "what is your NITRO SELECTION!!![ON,OFF]ON\n",
      "NITRO ENGAGED!!!!!!\n"
     ]
    }
   ],
   "source": [
    "car2.acceralation()"
   ]
  },
  {
   "cell_type": "code",
   "execution_count": null,
   "id": "77b3b996",
   "metadata": {},
   "outputs": [],
   "source": [
    "car2.media()"
   ]
  },
  {
   "cell_type": "code",
   "execution_count": null,
   "id": "d718c0ef",
   "metadata": {},
   "outputs": [],
   "source": []
  }
 ],
 "metadata": {
  "kernelspec": {
   "display_name": "Python 3 (ipykernel)",
   "language": "python",
   "name": "python3"
  },
  "language_info": {
   "codemirror_mode": {
    "name": "ipython",
    "version": 3
   },
   "file_extension": ".py",
   "mimetype": "text/x-python",
   "name": "python",
   "nbconvert_exporter": "python",
   "pygments_lexer": "ipython3",
   "version": "3.11.5"
  }
 },
 "nbformat": 4,
 "nbformat_minor": 5
}
