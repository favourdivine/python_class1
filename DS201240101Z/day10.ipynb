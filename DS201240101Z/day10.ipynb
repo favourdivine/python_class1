{
 "cells": [
  {
   "cell_type": "markdown",
   "id": "4f54123d",
   "metadata": {},
   "source": [
    "## Date And Time"
   ]
  },
  {
   "cell_type": "code",
   "execution_count": 1,
   "id": "cca3e121",
   "metadata": {},
   "outputs": [
    {
     "name": "stdout",
     "output_type": "stream",
     "text": [
      "['MAXYEAR', 'MINYEAR', 'UTC', '__all__', '__builtins__', '__cached__', '__doc__', '__file__', '__loader__', '__name__', '__package__', '__spec__', 'date', 'datetime', 'datetime_CAPI', 'sys', 'time', 'timedelta', 'timezone', 'tzinfo']\n"
     ]
    }
   ],
   "source": [
    "import datetime\n",
    "print(dir(datetime))"
   ]
  },
  {
   "cell_type": "code",
   "execution_count": 2,
   "id": "55eef8db",
   "metadata": {},
   "outputs": [
    {
     "data": {
      "text/plain": [
       "datetime.date(2022, 2, 15)"
      ]
     },
     "execution_count": 2,
     "metadata": {},
     "output_type": "execute_result"
    }
   ],
   "source": [
    "date1=datetime.date(2022,2,15)\n",
    "date1"
   ]
  },
  {
   "cell_type": "code",
   "execution_count": 4,
   "id": "01337f3d",
   "metadata": {},
   "outputs": [
    {
     "name": "stdout",
     "output_type": "stream",
     "text": [
      "2022\n",
      "15\n",
      "2\n",
      "2022\n",
      "1\n"
     ]
    }
   ],
   "source": [
    "print(date1.year)\n",
    "print(date1.day)\n",
    "print(date1.month)\n",
    "print(date1.year)\n",
    "print(date1.weekday())"
   ]
  },
  {
   "cell_type": "code",
   "execution_count": 5,
   "id": "8d5ad83f",
   "metadata": {},
   "outputs": [
    {
     "data": {
      "text/plain": [
       "datetime.date(2024, 2, 19)"
      ]
     },
     "execution_count": 5,
     "metadata": {},
     "output_type": "execute_result"
    }
   ],
   "source": [
    "currentdate=datetime.date.today()\n",
    "currentdate"
   ]
  },
  {
   "cell_type": "code",
   "execution_count": 7,
   "id": "a5e94ffb",
   "metadata": {},
   "outputs": [
    {
     "data": {
      "text/plain": [
       "'19 of February,2024'"
      ]
     },
     "execution_count": 7,
     "metadata": {},
     "output_type": "execute_result"
    }
   ],
   "source": [
    "## srfttime: this used for modification of date and time\n",
    "currentdate.strftime(\"%d of %B,%Y\")"
   ]
  },
  {
   "cell_type": "code",
   "execution_count": 9,
   "id": "1d45bc77",
   "metadata": {},
   "outputs": [
    {
     "data": {
      "text/plain": [
       "datetime.time(12, 22, 0, 521480)"
      ]
     },
     "execution_count": 9,
     "metadata": {},
     "output_type": "execute_result"
    }
   ],
   "source": [
    "current_times=datetime.datetime.now().time()\n",
    "current_times"
   ]
  },
  {
   "cell_type": "code",
   "execution_count": 10,
   "id": "28308bc5",
   "metadata": {},
   "outputs": [
    {
     "data": {
      "text/plain": [
       "'12::22::00::PM'"
      ]
     },
     "execution_count": 10,
     "metadata": {},
     "output_type": "execute_result"
    }
   ],
   "source": [
    "current_times.strftime(\"%H::%M::%S::%p\")"
   ]
  },
  {
   "cell_type": "code",
   "execution_count": 11,
   "id": "d1c68833",
   "metadata": {},
   "outputs": [
    {
     "data": {
      "text/plain": [
       "datetime.datetime(2024, 2, 19, 12, 25, 43, 687471)"
      ]
     },
     "execution_count": 11,
     "metadata": {},
     "output_type": "execute_result"
    }
   ],
   "source": [
    "current_date_time=datetime.datetime.now()\n",
    "current_date_time"
   ]
  },
  {
   "cell_type": "code",
   "execution_count": 15,
   "id": "bc7c439e",
   "metadata": {},
   "outputs": [
    {
     "name": "stdout",
     "output_type": "stream",
     "text": [
      "Enter your date[mm/dd/yy]:05/22/2001\n"
     ]
    },
    {
     "data": {
      "text/plain": [
       "datetime.date(2001, 5, 22)"
      ]
     },
     "execution_count": 15,
     "metadata": {},
     "output_type": "execute_result"
    }
   ],
   "source": [
    "cdate=input(\"Enter your date[mm/dd/yy]:\")\n",
    "condate=datetime.datetime.strptime(cdate,\"%m/%d/%Y\").date()\n",
    "condate"
   ]
  },
  {
   "cell_type": "code",
   "execution_count": 16,
   "id": "6727d4b0",
   "metadata": {},
   "outputs": [
    {
     "data": {
      "text/plain": [
       "datetime.timedelta(days=8308)"
      ]
     },
     "execution_count": 16,
     "metadata": {},
     "output_type": "execute_result"
    }
   ],
   "source": [
    "currentdate - condate"
   ]
  },
  {
   "cell_type": "code",
   "execution_count": 18,
   "id": "dbfc5488",
   "metadata": {},
   "outputs": [
    {
     "data": {
      "text/plain": [
       "datetime.date(2024, 7, 18)"
      ]
     },
     "execution_count": 18,
     "metadata": {},
     "output_type": "execute_result"
    }
   ],
   "source": [
    "currentdate + datetime.timedelta(days=150)"
   ]
  },
  {
   "cell_type": "code",
   "execution_count": 20,
   "id": "01b07e86",
   "metadata": {},
   "outputs": [
    {
     "data": {
      "text/plain": [
       "datetime.date(2023, 11, 21)"
      ]
     },
     "execution_count": 20,
     "metadata": {},
     "output_type": "execute_result"
    }
   ],
   "source": [
    "currentdate - datetime.timedelta(days=90)"
   ]
  },
  {
   "cell_type": "code",
   "execution_count": 21,
   "id": "3d93c0d5",
   "metadata": {},
   "outputs": [],
   "source": [
    "## Exercise\n",
    "## vWrite a program to calculate how many weeks and days \n",
    "## a user has until his/her appointment from the current date."
   ]
  },
  {
   "cell_type": "code",
   "execution_count": 22,
   "id": "fec41df0",
   "metadata": {},
   "outputs": [
    {
     "name": "stdout",
     "output_type": "stream",
     "text": [
      "Enter your date[yy/mm/dd]:2024/04/05\n",
      "Dear user You Have 6 weeks and 4 days until your appointment\n"
     ]
    }
   ],
   "source": [
    "appdate=input(\"Enter your date[yy/mm/dd]:\")\n",
    "appdate_now=datetime.datetime.strptime(appdate,\"%Y/%m/%d\").date()\n",
    "currentdate=datetime.date.today()\n",
    "diff= appdate_now - currentdate\n",
    "noweeks= diff.days//7\n",
    "nodays= diff.days % 7\n",
    "print(f'Dear user You Have {noweeks} weeks and {nodays} days until your appointment')"
   ]
  },
  {
   "cell_type": "code",
   "execution_count": 23,
   "id": "1e0013b7",
   "metadata": {},
   "outputs": [],
   "source": [
    "## Exercise\n",
    "## write a program to the following to display patient record,\n",
    "## calculate their checking fee based on the continent,\n",
    "## check their bodymass index\n",
    "## note read and understand the question to know what attribute are needed."
   ]
  },
  {
   "cell_type": "code",
   "execution_count": 26,
   "id": "d7a10ddb",
   "metadata": {},
   "outputs": [],
   "source": [
    "class patientrecord:\n",
    "    def __init__(self,name,age,height,weight,complexion):\n",
    "        self.name=name\n",
    "        self.age=age\n",
    "        self.height=height\n",
    "        self.weight=weight\n",
    "        self.complexion=complexion\n",
    "    def start(self):\n",
    "        print(f'''____patient Record___\n",
    "        \"NAME\":{self.name}\n",
    "        \"Age\":{self.age}\n",
    "        \"HEIGHT\":{self.height}\n",
    "        \"Weight\":{self.weight}\n",
    "        \"complexsion\":{self.complexion}\n",
    "       ''')\n",
    "    def countinetprice(self):\n",
    "        option=input(\"What is your country selection,[usa,kwanda,sweden,nigeria,canada]\")\n",
    "        if option == \"usa\":\n",
    "            print(\"The amount usa in dollars is $80\")\n",
    "        elif option == \"kwanda\":\n",
    "            print(\"The amount kwanda in dollars is $70\")\n",
    "        elif option == \"nigeria\":\n",
    "            print(\"The amount nigeria in dollars is $65\")\n",
    "        elif option == \"sweden\":\n",
    "            print(\"The amount sweden in dollars is $150\")\n",
    "        elif option == \"canada\":\n",
    "            print(\"The amount canada in dollars is $67\")\n",
    "    def bodymassindex(self):\n",
    "        height=float(input(\"what is your height in meters:\"))\n",
    "        weight=float(input(\"Enter your weight in kg:\"))\n",
    "        bmi=weight/(height**2)\n",
    "        if bmi < 18.5:\n",
    "            print(f\" your BMI is {bmi},you are underweight,see your doctor\")\n",
    "        elif bmi >= 18.5 and bmi <= 24.99:\n",
    "            print(f\" your BMI is {bmi},you are healthy\")\n",
    "        elif bmi >= 25 and bmi <= 30:\n",
    "            print(f\" your BMI is {bmi},you are overweight,see your doctor\")\n",
    "        else:\n",
    "            print(f'Your BMI IS {bmi}, you are extremely obesse,see your doctor immediately.')\n",
    "health=patientrecord(\"micheal\",30,9.0,34,\"dark\")   "
   ]
  },
  {
   "cell_type": "code",
   "execution_count": 28,
   "id": "2151d232",
   "metadata": {},
   "outputs": [
    {
     "name": "stdout",
     "output_type": "stream",
     "text": [
      "____patient Record___\n",
      "        \"NAME\":micheal\n",
      "        \"Age\":30\n",
      "        \"HEIGHT\":9.0\n",
      "        \"Weight\":34\n",
      "        \"complexsion\":dark\n",
      "       \n"
     ]
    }
   ],
   "source": [
    "health.start()"
   ]
  },
  {
   "cell_type": "code",
   "execution_count": null,
   "id": "ab4f5bb6",
   "metadata": {},
   "outputs": [],
   "source": [
    "health.countinetprice()"
   ]
  },
  {
   "cell_type": "code",
   "execution_count": null,
   "id": "759826ba",
   "metadata": {},
   "outputs": [],
   "source": []
  }
 ],
 "metadata": {
  "kernelspec": {
   "display_name": "Python 3 (ipykernel)",
   "language": "python",
   "name": "python3"
  },
  "language_info": {
   "codemirror_mode": {
    "name": "ipython",
    "version": 3
   },
   "file_extension": ".py",
   "mimetype": "text/x-python",
   "name": "python",
   "nbconvert_exporter": "python",
   "pygments_lexer": "ipython3",
   "version": "3.11.5"
  }
 },
 "nbformat": 4,
 "nbformat_minor": 5
}
