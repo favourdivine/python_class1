{
 "cells": [
  {
   "cell_type": "code",
   "execution_count": null,
   "id": "35bf13ff",
   "metadata": {},
   "outputs": [],
   "source": [
    "##EXCERCISE\n",
    "## Create a class called Car to represent a vehicle. \n",
    "## The Car class should have the following attributes: make, model, year, color, \n",
    "## and mileage. Implement methods to display the car's information,\n",
    "## calculate its depreciation based on the number of years since its purchase, and \n",
    "## check if it needs an oil change based on its mileage."
   ]
  },
  {
   "cell_type": "code",
   "execution_count": null,
   "id": "57380317",
   "metadata": {},
   "outputs": [],
   "source": [
    "class Car:\n",
    "    def __init__(self, make, model, year, color, mileage):\n",
    "        self.make = make\n",
    "        self.model = model\n",
    "        self.year = year\n",
    "        self.color = color\n",
    "        self.mileage = mileage\n",
    "\n",
    "    def display_info(self):\n",
    "        print(f\"Make: {self.make}\")\n",
    "        print(f\"Model: {self.model}\")\n",
    "        print(f\"Year: {self.year}\")\n",
    "        print(f\"Color: {self.color}\")\n",
    "        print(f\"Mileage: {self.mileage} miles\")\n",
    "\n",
    "## Using a constant value like 1000 to represent depreciation simplifies \n",
    "## the example by providing a straightforward calculation. It assumes that the car depreciates by $1000 per year, ## \n",
    "## which may not accurately reflect the actual depreciation rate of the car.\n",
    "    def calculate_depreciation(self, current_year):\n",
    "        years_old = current_year - self.year\n",
    "        depreciation = 1000 * years_old\n",
    "        print(f\"The car has depreciated ${depreciation} since purchase.\")\n",
    "\n",
    "    def check_oil_change(self):\n",
    "        if self.mileage >= 5000:\n",
    "            print(\"The car needs an oil change.\")\n",
    "        else:\n",
    "            print(\"The car doesn't need an oil change yet.\")\n",
    "maintain=Car()"
   ]
  },
  {
   "cell_type": "markdown",
   "id": "b4b76cf7",
   "metadata": {},
   "source": [
    "## FILE INPUT AND OUPUT"
   ]
  },
  {
   "cell_type": "code",
   "execution_count": 3,
   "id": "94e2c6f4",
   "metadata": {},
   "outputs": [
    {
     "name": "stdout",
     "output_type": "stream",
     "text": [
      "This is a earlycode class \n",
      "the programming classes are fun.\n"
     ]
    }
   ],
   "source": [
    "## open a file\n",
    "file=open(r\"C:\\Users\\DIVINE FAVUR\\Documents\\python_class\\practiceinput.txt\",\"r\")\n",
    "content=file.read()\n",
    "print(content)"
   ]
  },
  {
   "cell_type": "code",
   "execution_count": 4,
   "id": "3051e554",
   "metadata": {},
   "outputs": [],
   "source": [
    "## open a file for writing.\n",
    "file=open(r\"C:\\Users\\DIVINE FAVUR\\Documents\\python_class\\practiceinput.txt\",\"w\")\n",
    "file.write(\"python input and output writing\")\n",
    "file.write(\"Enjoy the process\")\n",
    "file.close()"
   ]
  },
  {
   "cell_type": "markdown",
   "id": "b8c01feb",
   "metadata": {},
   "source": [
    "## Error handling"
   ]
  },
  {
   "cell_type": "code",
   "execution_count": 12,
   "id": "07ee47c9",
   "metadata": {},
   "outputs": [
    {
     "name": "stdout",
     "output_type": "stream",
     "text": [
      "enter your height in meters:23\n",
      "Enter your weight in kg:8\n",
      "your BMI is 0.34782608695652173,you are underweight,see your doctor\n",
      "405\n",
      "end program now!!!\n"
     ]
    }
   ],
   "source": [
    "try:\n",
    "    height=float(input('enter your height in meters:'))\n",
    "    weight=float(input('Enter your weight in kg:'))\n",
    "    bmi=weight/height\n",
    "    if bmi < 18.5:\n",
    "        print(f'your BMI is {bmi},you are underweight,see your doctor')\n",
    "    elif bmi >=18.5 and bmi<=24.99:\n",
    "        print(f'your BMI is {bmi},YOU ARE HEALTHY')\n",
    "    elif bmi >=25 and bmi<=30:\n",
    "        print(f'your BMI is {bmi},YOU ARE OVERWEIGHT, SEE YOUR DOCTOR')\n",
    "    elif bmi >=18.5 and bmi<=24.99:\n",
    "        print(f'your BMI is {bmi},YOU ARE OBESSE, SEE YOUR DOCTOR')\n",
    "    else:\n",
    "        print(f'your BMI is {bmi}, you are extremely obesity, see your doctor')\n",
    "except ValueError:\n",
    "    print('wrong value,integer or float value is expected')\n",
    "except ZeroDivisionError:\n",
    "    print(\"YOU CANNOT DIVIDE 0\")\n",
    "# Handle any other unexpected errors\n",
    "except:\n",
    "      print('you have encountered one or more errors')\n",
    "else:\n",
    "    print(45*9)\n",
    "finally:\n",
    "    print(\"end program now!!!\")\n",
    "## if no exception are raised ,block will execute"
   ]
  },
  {
   "cell_type": "code",
   "execution_count": null,
   "id": "85049236",
   "metadata": {},
   "outputs": [],
   "source": []
  }
 ],
 "metadata": {
  "kernelspec": {
   "display_name": "Python 3 (ipykernel)",
   "language": "python",
   "name": "python3"
  },
  "language_info": {
   "codemirror_mode": {
    "name": "ipython",
    "version": 3
   },
   "file_extension": ".py",
   "mimetype": "text/x-python",
   "name": "python",
   "nbconvert_exporter": "python",
   "pygments_lexer": "ipython3",
   "version": "3.11.5"
  }
 },
 "nbformat": 4,
 "nbformat_minor": 5
}
