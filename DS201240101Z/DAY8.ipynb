{
 "cells": [
  {
   "cell_type": "code",
   "execution_count": 1,
   "id": "0349bfd5",
   "metadata": {},
   "outputs": [
    {
     "name": "stdout",
     "output_type": "stream",
     "text": [
      "[1, 25, 49, 81, 100]\n"
     ]
    }
   ],
   "source": [
    "## MAP\n",
    "numbers=[1,5,7,9,10]\n",
    "squred_roots=list(map(lambda x: x ** 2,numbers))\n",
    "print(squred_roots)"
   ]
  },
  {
   "cell_type": "markdown",
   "id": "10cc195e",
   "metadata": {},
   "source": [
    "## OOP (OBJECT ORIENTED PROGRAMMING)"
   ]
  },
  {
   "cell_type": "code",
   "execution_count": 2,
   "id": "4e728f14",
   "metadata": {},
   "outputs": [],
   "source": [
    "class person:\n",
    "    attrl1=\"sam\"\n",
    "    attrl2=\"dark\"\n",
    "    attrl3=\"height\"\n",
    "human=person()"
   ]
  },
  {
   "cell_type": "code",
   "execution_count": 3,
   "id": "1abfc490",
   "metadata": {},
   "outputs": [
    {
     "data": {
      "text/plain": [
       "'sam'"
      ]
     },
     "execution_count": 3,
     "metadata": {},
     "output_type": "execute_result"
    }
   ],
   "source": [
    "human.attrl1"
   ]
  },
  {
   "cell_type": "code",
   "execution_count": 4,
   "id": "6ffcb77c",
   "metadata": {},
   "outputs": [
    {
     "data": {
      "text/plain": [
       "'dark'"
      ]
     },
     "execution_count": 4,
     "metadata": {},
     "output_type": "execute_result"
    }
   ],
   "source": [
    "human.attrl2"
   ]
  },
  {
   "cell_type": "markdown",
   "id": "72655e52",
   "metadata": {},
   "source": [
    "## adding function to class(method)"
   ]
  },
  {
   "cell_type": "code",
   "execution_count": 14,
   "id": "7ef43c52",
   "metadata": {},
   "outputs": [],
   "source": [
    "class person:\n",
    "    attrl1=\"sam\"\n",
    "    attrl2=\"dark\"\n",
    "    attrl3=\"height\"\n",
    "    arrtl4= 45\n",
    "    def __init__(self):\n",
    "        self.attrl1\n",
    "        self.\n",
    "    def details(self):\n",
    "        print(f''' name: {self.attrl1}\n",
    "        complexion:{self.attrl2}''')\n",
    "    def action(self):\n",
    "        print(f' my name is {self.attrl1} and i am {self.attrl2}')\n",
    "person1=person()## take object has a key used "
   ]
  },
  {
   "cell_type": "code",
   "execution_count": 6,
   "id": "7f2fb384",
   "metadata": {},
   "outputs": [
    {
     "data": {
      "text/plain": [
       "45"
      ]
     },
     "execution_count": 6,
     "metadata": {},
     "output_type": "execute_result"
    }
   ],
   "source": [
    "person1.arrtl4"
   ]
  },
  {
   "cell_type": "code",
   "execution_count": 8,
   "id": "26118d25",
   "metadata": {},
   "outputs": [
    {
     "data": {
      "text/plain": [
       "'dark'"
      ]
     },
     "execution_count": 8,
     "metadata": {},
     "output_type": "execute_result"
    }
   ],
   "source": [
    "person1.attrl2"
   ]
  },
  {
   "cell_type": "code",
   "execution_count": 9,
   "id": "85dfffa1",
   "metadata": {},
   "outputs": [
    {
     "data": {
      "text/plain": [
       "'height'"
      ]
     },
     "execution_count": 9,
     "metadata": {},
     "output_type": "execute_result"
    }
   ],
   "source": [
    "human.attrl3"
   ]
  },
  {
   "cell_type": "code",
   "execution_count": 15,
   "id": "74fee590",
   "metadata": {},
   "outputs": [
    {
     "name": "stdout",
     "output_type": "stream",
     "text": [
      " name: sam\n",
      "        complexion:dark\n"
     ]
    }
   ],
   "source": [
    "person1.details()"
   ]
  },
  {
   "cell_type": "code",
   "execution_count": 16,
   "id": "ee7051c2",
   "metadata": {},
   "outputs": [
    {
     "name": "stdout",
     "output_type": "stream",
     "text": [
      " my name is sam and i am dark\n"
     ]
    }
   ],
   "source": [
    "person1.action()"
   ]
  },
  {
   "cell_type": "code",
   "execution_count": 17,
   "id": "c68ad778",
   "metadata": {},
   "outputs": [],
   "source": [
    "class monieapp:\n",
    "    def __init__(self):\n",
    "        self.balance=0\n",
    "    def deposit(self):\n",
    "        amount=float(input(\"Enter deposit amount:\"))\n",
    "        self.balance += amount\n",
    "        print(\"Transaction sucessfully....\")\n",
    "    def transfer(self):\n",
    "        amount=float(input(\"Enter transfer amount:\"))\n",
    "        bankname=input(\"Enter bank name:\")\n",
    "        acct_number= input(\"Enter Receiver account number:\")\n",
    "        if amount >self.balance or amount == 0:\n",
    "            print(\"Cannot complete transaction due to zero or insufficient funds\")\n",
    "        else:\n",
    "            self.balance -= amount\n",
    "            print(\"Transaction successfully completed!!!!\")\n",
    "    def airtime(self):\n",
    "        amount=float(input(\"Enter airtime amount:\"))\n",
    "        provider=input(\"Enter provider name:\")\n",
    "        phone_number=input(\"Enter phoneno:\")\n",
    "        if amount > self.balance or amount == 0:\n",
    "            print(\"Cannot complete transaction due to zero or insufficient funds\")\n",
    "        else:\n",
    "            self.balance -= amount\n",
    "            print(\"AIRTIME TRANSFER SUCCESSFULLY COMPLETED!!\")\n",
    "    def checkbalance(self):\n",
    "        print(f\" Your available balance is {self.balance}\")\n",
    "bankapp=monieapp()"
   ]
  },
  {
   "cell_type": "code",
   "execution_count": null,
   "id": "5d190dfd",
   "metadata": {},
   "outputs": [],
   "source": [
    "class MonieApp:\n",
    "    def __init__(self):\n",
    "        self.balance = 0\n",
    "    \n",
    "    def deposit(self):\n",
    "        amount = float(input(\"Enter deposit amount: \"))\n",
    "        self.balance += amount\n",
    "        print(\"Transaction successfully completed!\")\n",
    "    \n",
    "    def transfer(self):\n",
    "        amount = float(input(\"Enter transfer amount: \"))\n",
    "        bank_name = input(\"Enter bank name: \")\n",
    "        acct_number = input(\"Enter Receiver account number: \")\n",
    "        if amount > self.balance or amount == 0:\n",
    "            print(\"Cannot complete transaction due to zero or insufficient funds\")\n",
    "        else:\n",
    "            self.balance -= amount\n",
    "            print(\"Transaction successfully completed!\")\n",
    "    \n",
    "    def airtime(self):\n",
    "        amount = float(input(\"Enter airtime amount: \"))\n",
    "        provider = input(\"Enter provider name: \")\n",
    "        phone_number = input(\"Enter phone number: \")\n",
    "        if amount > self.balance or amount == 0:\n",
    "            print(\"Cannot complete transaction due to zero or insufficient funds\")\n",
    "        else:\n",
    "            self.balance -= amount\n",
    "            print(\"AIRTIME TRANSFER SUCCESSFULLY COMPLETED!!\")\n",
    "    \n",
    "    def check_balance(self):\n",
    "        print(f\"Your available balance is {self.balance}\")\n",
    "\n",
    "\n",
    "def main():\n",
    "    bank_app = MonieApp()\n",
    "    while True:\n",
    "        print(\"\\nWelcome to MonieApp!\\n\")\n",
    "        print(\"1. Deposit\")\n",
    "        print(\"2. Transfer\")\n",
    "        print(\"3. Airtime Purchase\")\n",
    "        print(\"4. Check Balance\")\n",
    "        print(\"5. Exit\")\n",
    "        choice = input(\"\\nSelect an option: \")\n",
    "        \n",
    "        if choice == '1':\n",
    "            bank_app.deposit()\n",
    "        elif choice == '2':\n",
    "            bank_app.transfer()\n",
    "        elif choice == '3':\n",
    "            bank_app.airtime()\n",
    "        elif choice == '4':\n",
    "            bank_app.check_balance()\n",
    "        elif choice == '5':\n",
    "            print(\"Thank you for using MonieApp!\")\n",
    "            break\n",
    "        else:\n",
    "            print(\"Invalid choice! Please select a valid option.\")\n",
    "\n",
    "\n",
    "if __name__ == \"__main__\":\n",
    "    main()"
   ]
  },
  {
   "cell_type": "code",
   "execution_count": 18,
   "id": "a81fa737",
   "metadata": {},
   "outputs": [
    {
     "name": "stdout",
     "output_type": "stream",
     "text": [
      " Your available balance is 0\n"
     ]
    }
   ],
   "source": [
    "bankapp.checkbalance()"
   ]
  },
  {
   "cell_type": "code",
   "execution_count": 19,
   "id": "966b2341",
   "metadata": {},
   "outputs": [
    {
     "name": "stdout",
     "output_type": "stream",
     "text": [
      "Enter transfer amount:4000\n",
      "Enter bank name:ACCESS BANK\n",
      "Enter Receiver account number:65364545345\n",
      "Cannot complete transaction due to zero or insufficient funds\n"
     ]
    }
   ],
   "source": [
    "bankapp.transfer()"
   ]
  },
  {
   "cell_type": "code",
   "execution_count": 20,
   "id": "8cf56905",
   "metadata": {},
   "outputs": [
    {
     "name": "stdout",
     "output_type": "stream",
     "text": [
      "Enter deposit amount:200000\n",
      "Transaction sucessfully....\n"
     ]
    }
   ],
   "source": [
    "bankapp.deposit()"
   ]
  },
  {
   "cell_type": "code",
   "execution_count": 21,
   "id": "c4abfc55",
   "metadata": {},
   "outputs": [
    {
     "name": "stdout",
     "output_type": "stream",
     "text": [
      "Enter transfer amount:60000\n",
      "Enter bank name:accsess bank\n",
      "Enter Receiver account number:5453453564\n",
      "Transaction successfully completed!!!!\n"
     ]
    }
   ],
   "source": [
    "bankapp.transfer()"
   ]
  },
  {
   "cell_type": "code",
   "execution_count": 22,
   "id": "e2230026",
   "metadata": {},
   "outputs": [
    {
     "name": "stdout",
     "output_type": "stream",
     "text": [
      " Your available balance is 140000.0\n"
     ]
    }
   ],
   "source": [
    "bankapp.checkbalance()"
   ]
  },
  {
   "cell_type": "code",
   "execution_count": null,
   "id": "cc0910a7",
   "metadata": {},
   "outputs": [],
   "source": []
  }
 ],
 "metadata": {
  "kernelspec": {
   "display_name": "Python 3 (ipykernel)",
   "language": "python",
   "name": "python3"
  },
  "language_info": {
   "codemirror_mode": {
    "name": "ipython",
    "version": 3
   },
   "file_extension": ".py",
   "mimetype": "text/x-python",
   "name": "python",
   "nbconvert_exporter": "python",
   "pygments_lexer": "ipython3",
   "version": "3.11.5"
  }
 },
 "nbformat": 4,
 "nbformat_minor": 5
}
