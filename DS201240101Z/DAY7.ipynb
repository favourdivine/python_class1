{
 "cells": [
  {
   "cell_type": "code",
   "execution_count": 1,
   "id": "77508875",
   "metadata": {},
   "outputs": [],
   "source": [
    "## Exercise\n",
    "## using function, write a program to calculate The total cost of a customer purchase\n",
    "## including discounts and sales tax ?\n",
    "## if the customer purchase is above 500000 you give discount\n",
    "## south south 15%\n",
    "## south East 10%\n",
    "## south West 8%\n",
    "## north east 12%\n",
    "## north west 11%\n",
    "## North Central 6%\n",
    "## The vat is slated at 3.5%"
   ]
  },
  {
   "cell_type": "code",
   "execution_count": 15,
   "id": "7eef128c",
   "metadata": {},
   "outputs": [
    {
     "name": "stdout",
     "output_type": "stream",
     "text": [
      "Enter customer purchase amount:500000\n",
      "Enter customer Region:south south\n",
      "______ customer RECEIPT_____\n",
      "      \"PURCHASE AMOUNT\": 500000.0\n",
      "      \"Discount\":75000.0\n",
      "      \"tax\": 17500.0\n",
      "      \"Total amount including vat minus discount\":442500.0      \n",
      "      \n"
     ]
    }
   ],
   "source": [
    "def sales():\n",
    "    purchaseamount=float(input(\"Enter customer purchase amount:\"))\n",
    "    region=input(\"Enter customer Region:\")\n",
    "    if purchaseamount >= 500000 and region == \"south south\":\n",
    "      print(f\"\"\"______ customer RECEIPT_____\n",
    "      \"PURCHASE AMOUNT\": {purchaseamount}\n",
    "      \"Discount\":{purchaseamount * 0.15}\n",
    "      \"tax\": {purchaseamount * 0.035}\n",
    "      \"Total amount including vat minus discount\":{purchaseamount + (purchaseamount * 0.035) -(purchaseamount * 0.15)}      \n",
    "      \"\"\")\n",
    "                        \n",
    "    elif purchaseamount >= 500000 and region == \"south east\":\n",
    "                     print(f\"\"\"______ customer RECEIPT_____\n",
    "                    \"PURCHASE AMOUNT\": {purchaseamount}\n",
    "                    \"Discount\":{purchaseamount * 0.10}\n",
    "                    \"tax\": {purchaseamount * 0.035}\n",
    "                   \"Total amount including vat minus discount\":{purchaseamount + (purchaseamount * 0.035) -(purchaseamount * 0.10)}      \n",
    "                    \"\"\")\n",
    "    elif purchaseamount >= 500000 and region == \"south West\":\n",
    "                    print(f\"\"\"______ customer RECEIPT_____\n",
    "                    \"PURCHASE AMOUNT\": {purchaseamount}\n",
    "                    \"Discount\":{purchaseamount * 0.08}\n",
    "                    \"tax\": {purchaseamount * 0.035}\n",
    "                   \"Total amount including vat minus discount\":{purchaseamount + (purchaseamount * 0.035) -(purchaseamount * 0.08)} \n",
    "                   \"\"\")\n",
    "    elif purchaseamount >= 500000 and region == \"north east\":\n",
    "                    print(f\"\"\"______ customer RECEIPT_____\n",
    "                    \"PURCHASE AMOUNT\": {purchaseamount}\n",
    "                    \"Discount\":{purchaseamount * 0.12}\n",
    "                    \"tax\": {purchaseamount * 0.035}\n",
    "                   \"Total amount including vat minus discount\":{purchaseamount + (purchaseamount * 0.035) -(purchaseamount * 0.12)} \n",
    "                   \"\"\")\n",
    "    elif purchaseamount >= 500000 and region == \"north West\":\n",
    "                    print(f\"\"\"______ customer RECEIPT_____\n",
    "                    \"PURCHASE AMOUNT\": {purchaseamount}\n",
    "                    \"Discount\":{purchaseamount * 0.11}\n",
    "                    \"tax\": {purchaseamount * 0.035}\n",
    "                   \"Total amount including vat minus discount\":{purchaseamount + (purchaseamount * 0.035) -(purchaseamount * 0.11)} \n",
    "                   \"\"\")\n",
    "    elif purchaseamount >= 500000 and region == \"north central\":\n",
    "                    print(f\"\"\"______ customer RECEIPT_____\n",
    "                    \"PURCHASE AMOUNT\": {purchaseamount}\n",
    "                    \"Discount\":{purchaseamount * 0.06}\n",
    "                    \"tax\": {purchaseamount * 0.035}\n",
    "                   \"Total amount including vat minus discount\":{purchaseamount + (purchaseamount * 0.035) -(purchaseamount * 0.06)} \n",
    "                   \"\"\")\n",
    "    else:\n",
    "          print(f\"\"\"______ customer RECEIPT_____\n",
    "                    \"PURCHASE AMOUNT\": {purchaseamount}\n",
    "                    \"tax\": {purchaseamount * 0.035}\n",
    "                   \"Total amount including vat minus discount\":{purchaseamount + (purchaseamount * 0.035)} \n",
    "                   \"sorry you are not eligiable for a DICOUNT!!!\"\n",
    "                   \"\"\")\n",
    "sales()"
   ]
  },
  {
   "cell_type": "markdown",
   "id": "93e52274",
   "metadata": {},
   "source": [
    "## Lambda"
   ]
  },
  {
   "cell_type": "code",
   "execution_count": 16,
   "id": "9752fcba",
   "metadata": {},
   "outputs": [
    {
     "data": {
      "text/plain": [
       "12"
      ]
     },
     "execution_count": 16,
     "metadata": {},
     "output_type": "execute_result"
    }
   ],
   "source": [
    "def add(x,y):\n",
    "    return x + y\n",
    "add(4,8)"
   ]
  },
  {
   "cell_type": "code",
   "execution_count": 17,
   "id": "9c3b3afe",
   "metadata": {},
   "outputs": [
    {
     "data": {
      "text/plain": [
       "7"
      ]
     },
     "execution_count": 17,
     "metadata": {},
     "output_type": "execute_result"
    }
   ],
   "source": [
    "(lambda x,y: x + y)(4,3)"
   ]
  },
  {
   "cell_type": "code",
   "execution_count": 18,
   "id": "809acc1e",
   "metadata": {},
   "outputs": [
    {
     "data": {
      "text/plain": [
       "42"
      ]
     },
     "execution_count": 18,
     "metadata": {},
     "output_type": "execute_result"
    }
   ],
   "source": [
    "(lambda x,y,z: x +y*z)(2,5,8)"
   ]
  },
  {
   "cell_type": "code",
   "execution_count": 4,
   "id": "9f43714c",
   "metadata": {},
   "outputs": [],
   "source": [
    "numbers = [1, 2, 3, 4, 5]\n",
    "squared_numbers = map(lambda x: x ** 2, numbers)"
   ]
  },
  {
   "cell_type": "code",
   "execution_count": 21,
   "id": "1b69445a",
   "metadata": {},
   "outputs": [
    {
     "name": "stdout",
     "output_type": "stream",
     "text": [
      "Enter your new password:Earycode\n"
     ]
    },
    {
     "data": {
      "text/plain": [
       "'Earycode is correct'"
      ]
     },
     "execution_count": 21,
     "metadata": {},
     "output_type": "execute_result"
    }
   ],
   "source": [
    "## write a lambda function giving a user prompt to start with a upper case and len of 8 password.\n",
    "(lambda password: f\"{password} is correct\" if password[0]==password[0].upper() and len(password) >= 8 else \" Incorrect password requirement\")(input(\"Enter your new password:\"))"
   ]
  },
  {
   "cell_type": "code",
   "execution_count": 23,
   "id": "2daaf25e",
   "metadata": {},
   "outputs": [
    {
     "name": "stdout",
     "output_type": "stream",
     "text": [
      "[8, 10]\n"
     ]
    }
   ],
   "source": [
    "## fiter function\n",
    "num2= [1,8,9,7,10]\n",
    "nlist=list(filter(lambda x:x % 2 == 0, num2))\n",
    "print(nlist)"
   ]
  },
  {
   "cell_type": "code",
   "execution_count": 5,
   "id": "045bb5b7",
   "metadata": {},
   "outputs": [],
   "source": [
    "numbers = [1, 2, 3, 4, 5]\n",
    "squared_numbers = map(lambda x: x ** 2, numbers)"
   ]
  },
  {
   "cell_type": "code",
   "execution_count": 6,
   "id": "8d6d90da",
   "metadata": {},
   "outputs": [
    {
     "name": "stdout",
     "output_type": "stream",
     "text": [
      "Squared numbers: [1, 4, 9, 16, 25]\n"
     ]
    }
   ],
   "source": [
    "numbers = [1, 2, 3, 4, 5]\n",
    "\n",
    "# Using map to square each number\n",
    "squared_numbers = list(map(lambda x: x ** 2, numbers))\n",
    "print(\"Squared numbers:\", squared_numbers)"
   ]
  },
  {
   "cell_type": "code",
   "execution_count": 8,
   "id": "722001fe",
   "metadata": {},
   "outputs": [
    {
     "name": "stdout",
     "output_type": "stream",
     "text": [
      "Sorted numbers: [1, 4, 10, 10, 12, 45, 86, 99, 100]\n"
     ]
    }
   ],
   "source": [
    "numbers=[1,4,10,100,99,86,12,45,10]\n",
    "sorted_numbers = sorted(numbers, key=lambda x: abs(x))\n",
    "print(\"Sorted numbers:\", sorted_numbers)"
   ]
  },
  {
   "cell_type": "code",
   "execution_count": null,
   "id": "6dc48ceb",
   "metadata": {},
   "outputs": [],
   "source": []
  }
 ],
 "metadata": {
  "kernelspec": {
   "display_name": "Python 3 (ipykernel)",
   "language": "python",
   "name": "python3"
  },
  "language_info": {
   "codemirror_mode": {
    "name": "ipython",
    "version": 3
   },
   "file_extension": ".py",
   "mimetype": "text/x-python",
   "name": "python",
   "nbconvert_exporter": "python",
   "pygments_lexer": "ipython3",
   "version": "3.12.1"
  }
 },
 "nbformat": 4,
 "nbformat_minor": 5
}
