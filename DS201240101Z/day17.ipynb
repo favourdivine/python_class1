{
 "cells": [
  {
   "cell_type": "code",
   "execution_count": null,
   "metadata": {},
   "outputs": [],
   "source": [
    "### conda install -c anaconda pymysql"
   ]
  },
  {
   "cell_type": "code",
   "execution_count": 1,
   "metadata": {},
   "outputs": [],
   "source": [
    "import pymysql"
   ]
  },
  {
   "cell_type": "code",
   "execution_count": 2,
   "metadata": {},
   "outputs": [],
   "source": [
    "mydb=pymysql.connect(\n",
    "    host= \"localhost\",\n",
    "    port= 3306,\n",
    "    user= \"root\",\n",
    "    password=\"1234\"\n",
    ")\n",
    "mycursor=mydb.cursor()"
   ]
  },
  {
   "cell_type": "code",
   "execution_count": 6,
   "metadata": {},
   "outputs": [
    {
     "name": "stdout",
     "output_type": "stream",
     "text": [
      "('employee_details1',)\n",
      "('employee_details2',)\n",
      "('information_schema',)\n",
      "('mysql',)\n",
      "('performance_schema',)\n",
      "('sakila',)\n",
      "('sys',)\n",
      "('world',)\n"
     ]
    }
   ],
   "source": [
    "mycursor.execute(\"show databases\")\n",
    "for x in mycursor:\n",
    "    print(x)"
   ]
  },
  {
   "cell_type": "code",
   "execution_count": null,
   "metadata": {},
   "outputs": [],
   "source": [
    "## As a newly employed developer/programmer, \n",
    "## our first task is to develop a student management system capable of accepting, \n",
    "## searching, displaying, updating, and archiving student records. With this goal in mind, \n",
    "## how would you proceed to ensure the system's functionality and security?\""
   ]
  },
  {
   "cell_type": "code",
   "execution_count": 7,
   "metadata": {},
   "outputs": [
    {
     "name": "stdout",
     "output_type": "stream",
     "text": [
      "('employee_details1',)\n",
      "('employee_details2',)\n",
      "('information_schema',)\n",
      "('mysql',)\n",
      "('oxforduni',)\n",
      "('performance_schema',)\n",
      "('sakila',)\n",
      "('sys',)\n",
      "('world',)\n"
     ]
    }
   ],
   "source": [
    "mycursor.execute(\"create database oxfordUni\")\n",
    "mycursor.execute(\"show databases\")\n",
    "for x in mycursor:\n",
    "    print(x)"
   ]
  },
  {
   "cell_type": "code",
   "execution_count": 9,
   "metadata": {},
   "outputs": [
    {
     "name": "stdout",
     "output_type": "stream",
     "text": [
      "('id', 'int', 'NO', 'PRI', None, '')\n",
      "('name', 'varchar(255)', 'NO', '', None, '')\n",
      "('age', 'int', 'NO', '', None, '')\n",
      "('gender', 'varchar(50)', 'NO', '', None, '')\n",
      "('dob', 'date', 'NO', '', None, '')\n",
      "('address', 'text', 'NO', '', None, '')\n",
      "('guardian_contact', 'varchar(50)', 'NO', '', None, '')\n",
      "('guardian_name', 'varchar(255)', 'NO', '', None, '')\n"
     ]
    }
   ],
   "source": [
    "mycursor.execute(\"use oxforduni\")\n",
    "mycursor.execute(\"create table students(id int primary key not null, name varchar(255) not null, age int not null, gender varchar(50) not null, dob date not null, address text not null,guardian_contact varchar(50)not null,guardian_name varchar(255)not null)\")\n",
    "mycursor.execute(\"show columns from students\")\n",
    "for x in mycursor:\n",
    "    print(x)"
   ]
  },
  {
   "cell_type": "code",
   "execution_count": 5,
   "metadata": {},
   "outputs": [],
   "source": [
    "mycursor.execute(\"use oxforduni\")\n",
    "def accept_record():\n",
    "    id= int(input(\"Enter student ID:\"))\n",
    "    name=input(\"Enter student name:\")\n",
    "    age=int(input(\"Enter student age:\"))\n",
    "    gender=input(\"Enter student gender (Male/Female/other):\")\n",
    "    dob=input(\"Enter student date of birth (YYYY-MM-DD):\")\n",
    "    address= input(\"Enter student address:\")\n",
    "    guardian_contact=input(\"Enter guardian contact number:\")\n",
    "    guardian_name=input(\"Enter guardian name:\")\n",
    "\n",
    "    query=\"insert into students(id,name,age,gender,dob,address,guardian_name,guardian_contact) values(%s,%s,%s,%s,%s,%s,%s,%s)\"\n",
    "    mycursor.execute(query,(id,name,age,gender,dob,address,guardian_name,guardian_contact))\n",
    "    mydb.commit()\n",
    "    print(\"Record inserted successfully....\")\n",
    "\n",
    "def search_record():\n",
    "    id=int(input(\"Enter search ID:\"))\n",
    "    query= 'select * from students where id = \"%s\"'\n",
    "    mycursor.execute(query,(id,))\n",
    "    result=mycursor.fetchall()\n",
    "    if len(result)== 0:\n",
    "        print(\"Record not found....\")\n",
    "    else:\n",
    "        for x in result:\n",
    "            print(x)\n",
    "def display_records():\n",
    "        mycursor.execute(\"select * from students\")\n",
    "        for x in mycursor:\n",
    "                print(x) \n",
    "def update_record():\n",
    "         id=int(input(\"ENTER THE ID NUMBER:\"))\n",
    "         column_name=input(\"Enter the column name:\")\n",
    "         new_value=input(\"Enter the new value:\")\n",
    "         query=f'update students set{column_name}=%s where id= %s'\n",
    "         mycursor.execute(query,(new_value,id))\n",
    "         mydb.commit()\n",
    "def archive_records():\n",
    "         id=int(input(\"enter the id number needed to be deleted..\"))\n",
    "         query=\"delete from students where id = %s\"\n",
    "         mycursor.execute(query,(id,))\n",
    "         mydb.commit()    \n",
    "def main():\n",
    "         print(\"<<<<< Welcome ADMIN >>>>>\")\n",
    "         print(\"OPERATION LIST[accept,Display,search,update_records,archive,logout]\")\n",
    "         OPERATION=True\n",
    "         while OPERATION:\n",
    "              option=input(\"select operation:\")\n",
    "              if option == \"Accept\".lower():\n",
    "                   accept_record()\n",
    "              elif option == \"Display\".lower():\n",
    "                    display_records()\n",
    "              elif option == \"search\".lower():\n",
    "                    search_record()\n",
    "              elif option == \"update_records\".lower():\n",
    "                    update_record()\n",
    "              elif option == \"archive\".lower():\n",
    "                    update_record()\n",
    "              elif option == \"logout\".lower():\n",
    "                    OPERATION=False\n",
    "                    print(\"OPERATIONTERMINATED...... \")\n",
    "                    break\n",
    "               \n",
    " if __name__ == \"__main__\":\n",
    "    main()  "
   ]
  },
  {
   "cell_type": "code",
   "execution_count": null,
   "metadata": {},
   "outputs": [],
   "source": [
    "if __name__ == \"__main__\":\n",
    "    main()"
   ]
  },
  {
   "cell_type": "code",
   "execution_count": 6,
   "metadata": {},
   "outputs": [
    {
     "name": "stdout",
     "output_type": "stream",
     "text": [
      "<<<<< Welcome ADMIN >>>>>\n",
      "OPERATION LIST[accept,Display,search,update_records,archive,logout]\n",
      "Record inserted successfully....\n"
     ]
    }
   ],
   "source": [
    "main()"
   ]
  },
  {
   "cell_type": "code",
   "execution_count": null,
   "metadata": {},
   "outputs": [],
   "source": []
  }
 ],
 "metadata": {
  "kernelspec": {
   "display_name": "Python 3",
   "language": "python",
   "name": "python3"
  },
  "language_info": {
   "codemirror_mode": {
    "name": "ipython",
    "version": 3
   },
   "file_extension": ".py",
   "mimetype": "text/x-python",
   "name": "python",
   "nbconvert_exporter": "python",
   "pygments_lexer": "ipython3",
   "version": "3.12.1"
  }
 },
 "nbformat": 4,
 "nbformat_minor": 2
}
