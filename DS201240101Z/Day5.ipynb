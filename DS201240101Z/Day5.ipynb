{
 "cells": [
  {
   "cell_type": "code",
   "execution_count": 3,
   "id": "66a831b0",
   "metadata": {},
   "outputs": [
    {
     "name": "stdout",
     "output_type": "stream",
     "text": [
      "physics Score:80\n",
      "Biology Score:12\n",
      "History Score:25\n",
      "Accounting Score:60\n",
      "Economics Score:45\n",
      "English Score:56\n",
      "Your avg score is 46.33 and score point is D\n"
     ]
    }
   ],
   "source": [
    "##  PROGRAM SOFTWARE THAT USES STUDENT SUBJECTS TO LOOK FOR THE AVERAGE OF THE SCORE AND GIVE A SCORE POINT\n",
    "grades1=float(input(\"physics Score:\"))\n",
    "grades2=float(input(\"Biology Score:\"))\n",
    "grades3=float(input(\"History Score:\"))\n",
    "grades4=float(input(\"Accounting Score:\"))\n",
    "grades5=float(input(\"Economics Score:\"))\n",
    "grades6=float(input(\"English Score:\"))\n",
    "import statistics as stat\n",
    "avg=round(stat.mean([grades1,grades2,grades3,grades4,grades5,grades6]),2)\n",
    "if avg >= 70 and avg <=100:\n",
    "    print(f'Your avg score is {avg} and score point is A')\n",
    "elif avg >= 60 and avg <=69.99:\n",
    "    print(f'Your avg score is {avg} and score point is B')\n",
    "elif avg >= 50 and avg <=59.99:\n",
    "    print(f'Your avg score is {avg} and score point is C')\n",
    "elif avg >= 40 and avg <=49.99:\n",
    "    print(f'Your avg score is {avg} and score point is D')\n",
    "else:\n",
    "    print(\"sorry you failed badly\")"
   ]
  },
  {
   "cell_type": "markdown",
   "id": "5ea43ee1",
   "metadata": {},
   "source": [
    "## LOOPS"
   ]
  },
  {
   "cell_type": "code",
   "execution_count": 6,
   "id": "07d212da",
   "metadata": {},
   "outputs": [
    {
     "name": "stdout",
     "output_type": "stream",
     "text": [
      "p\n",
      "y\n",
      "t\n",
      "h\n",
      "o\n",
      "n\n",
      "python\n"
     ]
    }
   ],
   "source": [
    "## LOOPS IS THE ACT OF A PROGRAMMER TO REPEAT A PROGRAM OVER AGAIN USING THE LOOP FUNCTION.\n",
    "## For loops: This must have a particular elememt or variable to loop over in which the name stand for itself(FOR)\n",
    "word=\"python\"\n",
    "for h in word:\n",
    "    print(h)\n",
    "print(word)"
   ]
  },
  {
   "cell_type": "code",
   "execution_count": 1,
   "id": "a1c0cac1",
   "metadata": {},
   "outputs": [
    {
     "name": "stdout",
     "output_type": "stream",
     "text": [
      "apple\n",
      "banana\n",
      "cherry\n"
     ]
    }
   ],
   "source": [
    "fruits = [\"apple\", \"banana\", \"cherry\"]\n",
    "for fruit in fruits:\n",
    "    print(fruit)"
   ]
  },
  {
   "cell_type": "code",
   "execution_count": 7,
   "id": "0bbe2778",
   "metadata": {},
   "outputs": [
    {
     "name": "stdout",
     "output_type": "stream",
     "text": [
      "pppppp\n",
      "yyyyyy\n",
      "tttttt\n",
      "hhhhhh\n",
      "oooooo\n",
      "nnnnnn\n"
     ]
    }
   ],
   "source": [
    "word=\"python\"\n",
    "for h in word:\n",
    "    print(h * 6)"
   ]
  },
  {
   "cell_type": "code",
   "execution_count": 17,
   "id": "9ad108bb",
   "metadata": {},
   "outputs": [
    {
     "name": "stdout",
     "output_type": "stream",
     "text": [
      "Enter The character name:o\n",
      "Character Found\n"
     ]
    }
   ],
   "source": [
    "## for loop(using conditional statement)\n",
    "word=\"python\"\n",
    "user=input(\"Enter The character name:\")\n",
    "for o in word:\n",
    "    if user == o:\n",
    "        print(\"Character Found\")\n",
    "        break\n",
    "else:\n",
    "    print(\"Character not found\")"
   ]
  },
  {
   "cell_type": "markdown",
   "id": "2b64e56c",
   "metadata": {},
   "source": [
    "## while loops"
   ]
  },
  {
   "cell_type": "code",
   "execution_count": 31,
   "id": "57cf6766",
   "metadata": {},
   "outputs": [
    {
     "name": "stdout",
     "output_type": "stream",
     "text": [
      "What is the square number :10\n"
     ]
    }
   ],
   "source": [
    "counter=10\n",
    "num=int(input(\"What is the square number :\"))\n",
    "import math\n",
    "while num != 10:\n",
    "    print(f\"The square root of {num} is {math.sqrt(num)}\")\n",
    "    num=int(input(\"enter your number:\"))\n",
    "    counter += 1"
   ]
  },
  {
   "cell_type": "code",
   "execution_count": 2,
   "id": "defdc427",
   "metadata": {},
   "outputs": [
    {
     "name": "stdout",
     "output_type": "stream",
     "text": [
      "1\n",
      "2\n",
      "3\n",
      "4\n",
      "5\n"
     ]
    }
   ],
   "source": [
    "i = 1\n",
    "while i <= 5:\n",
    "    print(i)\n",
    "    i += 1"
   ]
  },
  {
   "cell_type": "code",
   "execution_count": 37,
   "id": "21faa605",
   "metadata": {},
   "outputs": [
    {
     "name": "stdout",
     "output_type": "stream",
     "text": [
      "What is the number:2\n",
      " 2 * 1 = 2\n",
      " 2 * 2 = 4\n",
      " 2 * 3 = 6\n",
      " 2 * 4 = 8\n",
      " 2 * 5 = 10\n",
      " 2 * 6 = 12\n",
      " 2 * 7 = 14\n",
      " 2 * 8 = 16\n",
      " 2 * 9 = 18\n",
      " 2 * 10 = 20\n",
      " 2 * 11 = 22\n",
      " 2 * 12 = 24\n",
      " 2 * 13 = 26\n",
      " 2 * 14 = 28\n",
      " 2 * 15 = 30\n",
      " 2 * 16 = 32\n",
      " 2 * 17 = 34\n",
      " 2 * 18 = 36\n",
      " 2 * 19 = 38\n",
      " 2 * 20 = 40\n"
     ]
    }
   ],
   "source": [
    "counter=1\n",
    "num=int(input(\"What is the number:\"))\n",
    "while counter <= 20:\n",
    "    print(f' {num} * {counter} = {num * counter}')\n",
    "    counter += 1"
   ]
  },
  {
   "cell_type": "code",
   "execution_count": 38,
   "id": "9d36bf16",
   "metadata": {},
   "outputs": [
    {
     "name": "stdout",
     "output_type": "stream",
     "text": [
      "10\n",
      "9\n",
      "8\n",
      "7\n",
      "6\n",
      "5\n",
      "4\n",
      "3\n",
      "2\n",
      "1\n",
      "HAPPY NEW YEAR>>>>\n"
     ]
    }
   ],
   "source": [
    "counter=10\n",
    "while counter > 0:\n",
    "    print(counter)\n",
    "    counter -= 1\n",
    "print(\"HAPPY NEW YEAR>>>>\")"
   ]
  },
  {
   "cell_type": "code",
   "execution_count": 41,
   "id": "90f2de5e",
   "metadata": {},
   "outputs": [
    {
     "name": "stdout",
     "output_type": "stream",
     "text": [
      "Enter your password:correct_password123\n",
      "Password Correct. processing.....\n"
     ]
    }
   ],
   "source": [
    "## creating a program that accept a valid password\n",
    "correct_password= \"correct_password123\"\n",
    "password= input(\"Enter your password:\")\n",
    "if password == correct_password:\n",
    "    print(\"Password Correct. processing.....\")\n",
    "else:\n",
    "    print(\"Incorrect password. Acces Denied.\")"
   ]
  },
  {
   "cell_type": "code",
   "execution_count": null,
   "id": "598a1a66",
   "metadata": {},
   "outputs": [],
   "source": [
    "## ctr"
   ]
  }
 ],
 "metadata": {
  "kernelspec": {
   "display_name": "Python 3 (ipykernel)",
   "language": "python",
   "name": "python3"
  },
  "language_info": {
   "codemirror_mode": {
    "name": "ipython",
    "version": 3
   },
   "file_extension": ".py",
   "mimetype": "text/x-python",
   "name": "python",
   "nbconvert_exporter": "python",
   "pygments_lexer": "ipython3",
   "version": "3.11.5"
  }
 },
 "nbformat": 4,
 "nbformat_minor": 5
}
