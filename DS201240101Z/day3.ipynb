{
 "cells": [
  {
   "cell_type": "markdown",
   "id": "60199537",
   "metadata": {},
   "source": [
    "## Iterable objects"
   ]
  },
  {
   "cell_type": "markdown",
   "id": "1ca410a6",
   "metadata": {},
   "source": [
    "## iterable objects are use to loop over element one by one\n",
    "## Turple\n",
    "## List\n",
    "## Dictionary"
   ]
  },
  {
   "cell_type": "markdown",
   "id": "0433871f",
   "metadata": {},
   "source": [
    "## Turple"
   ]
  },
  {
   "cell_type": "code",
   "execution_count": 1,
   "id": "95f5066f",
   "metadata": {},
   "outputs": [],
   "source": [
    "## Turple unchangeable\n",
    "## Turple uses the bracket ()\n",
    "## Turple use index location to access each element."
   ]
  },
  {
   "cell_type": "code",
   "execution_count": 2,
   "id": "0347c56e",
   "metadata": {},
   "outputs": [
    {
     "name": "stdout",
     "output_type": "stream",
     "text": [
      "(10, 24, 25, 90, 100, 40, 50, 70, 'Micheal')\n",
      "<class 'tuple'>\n",
      "9\n"
     ]
    }
   ],
   "source": [
    "numbers=(10,24,25,90,100,40,50,70,\"Micheal\")\n",
    "print(numbers)\n",
    "print(type(numbers))\n",
    "print(len(numbers))(10, 24, 25, 90, 100, 40, 50, 70, 'Micheal')\n"
   ]
  },
  {
   "cell_type": "code",
   "execution_count": 3,
   "id": "4ff3afbe",
   "metadata": {},
   "outputs": [
    {
     "name": "stdout",
     "output_type": "stream",
     "text": [
      "Micheal\n"
     ]
    }
   ],
   "source": [
    "## forward index\n",
    "print(numbers[8])"
   ]
  },
  {
   "cell_type": "code",
   "execution_count": 10,
   "id": "2a319134",
   "metadata": {},
   "outputs": [
    {
     "name": "stdout",
     "output_type": "stream",
     "text": [
      "100\n"
     ]
    }
   ],
   "source": [
    "## Backward index\n",
    "print(numbers[-5])"
   ]
  },
  {
   "cell_type": "code",
   "execution_count": 12,
   "id": "0dc7e504",
   "metadata": {},
   "outputs": [
    {
     "name": "stdout",
     "output_type": "stream",
     "text": [
      "(24, 25, 90, 100, 40, 50, 70, 'Micheal')\n"
     ]
    }
   ],
   "source": [
    "## range\n",
    "print(numbers[1:9]) ##forward +1 to find an index "
   ]
  },
  {
   "cell_type": "code",
   "execution_count": 2,
   "id": "226ea34d",
   "metadata": {},
   "outputs": [
    {
     "name": "stdout",
     "output_type": "stream",
     "text": [
      "(24, 25, 90, 100, 40, 50)\n"
     ]
    }
   ],
   "source": [
    "## forward and backward range\n",
    "print(numbers[1:-2])     ## backward use -1 for index location"
   ]
  },
  {
   "cell_type": "code",
   "execution_count": 3,
   "id": "2a2f3b7f",
   "metadata": {},
   "outputs": [
    {
     "name": "stdout",
     "output_type": "stream",
     "text": [
      "(10, 24, 25, 90, 100, 40, 50, 70, 'Micheal')\n"
     ]
    }
   ],
   "source": [
    "## forward range\n",
    "print(numbers[0::])"
   ]
  },
  {
   "cell_type": "code",
   "execution_count": 15,
   "id": "af77b667",
   "metadata": {},
   "outputs": [
    {
     "name": "stdout",
     "output_type": "stream",
     "text": [
      "('Micheal', 70, 50, 40, 100, 90, 25, 24, 10)\n"
     ]
    }
   ],
   "source": [
    "## reverse\n",
    "print(numbers[::-1])"
   ]
  },
  {
   "cell_type": "markdown",
   "id": "5b6567eb",
   "metadata": {},
   "source": [
    "## list"
   ]
  },
  {
   "cell_type": "code",
   "execution_count": 17,
   "id": "b784636e",
   "metadata": {},
   "outputs": [],
   "source": [
    "## list changeable\n",
    "## list use the square bracket for identification []\n",
    "## list use index location to access each element"
   ]
  },
  {
   "cell_type": "code",
   "execution_count": 18,
   "id": "eb2b3278",
   "metadata": {},
   "outputs": [
    {
     "name": "stdout",
     "output_type": "stream",
     "text": [
      "['strawberry', 'orange', 'pineapple', 'watermelon']\n",
      "<class 'list'>\n"
     ]
    }
   ],
   "source": [
    "fruits=[\"strawberry\",\"orange\",\"pineapple\",\"watermelon\"]\n",
    "print(fruits)\n",
    "print(type(fruits))"
   ]
  },
  {
   "cell_type": "code",
   "execution_count": 19,
   "id": "dc0bf3f9",
   "metadata": {},
   "outputs": [
    {
     "name": "stdout",
     "output_type": "stream",
     "text": [
      "watermelon\n"
     ]
    }
   ],
   "source": [
    "print(fruits[3])"
   ]
  },
  {
   "cell_type": "code",
   "execution_count": 22,
   "id": "f5007c57",
   "metadata": {},
   "outputs": [
    {
     "name": "stdout",
     "output_type": "stream",
     "text": [
      "['strawberry', 'orange', 'pineapple', 'watermelon', 'cherry', 'cherry', 'cherry']\n"
     ]
    }
   ],
   "source": [
    "fruits.append(\"cherry\")## append is used to add element to a list.\n",
    "print(fruits)"
   ]
  },
  {
   "cell_type": "code",
   "execution_count": 25,
   "id": "f9147633",
   "metadata": {},
   "outputs": [
    {
     "name": "stdout",
     "output_type": "stream",
     "text": [
      "['strawberry', 'orange', 'pineapple', 'watermelon']\n"
     ]
    }
   ],
   "source": [
    "fruits.remove(\"cherry\")\n",
    "print(fruits)"
   ]
  },
  {
   "cell_type": "code",
   "execution_count": 26,
   "id": "30e17714",
   "metadata": {},
   "outputs": [
    {
     "name": "stdout",
     "output_type": "stream",
     "text": [
      "['strawberry', 'orange', 'pineapple', 'watermelon', 'mango', 'apple', 'blueberries', 'banana']\n"
     ]
    }
   ],
   "source": [
    "fruits.extend([\"mango\",\"apple\",\"blueberries\",\"banana\"])\n",
    "print(fruits)"
   ]
  },
  {
   "cell_type": "code",
   "execution_count": 27,
   "id": "b987a434",
   "metadata": {},
   "outputs": [
    {
     "name": "stdout",
     "output_type": "stream",
     "text": [
      "['apple', 'banana', 'blueberries', 'mango', 'orange', 'pineapple', 'strawberry', 'watermelon']\n"
     ]
    }
   ],
   "source": [
    "fruits.sort()\n",
    "print(fruits)## sort arranges the each element alphabetically."
   ]
  },
  {
   "cell_type": "code",
   "execution_count": 28,
   "id": "9ba2590f",
   "metadata": {},
   "outputs": [
    {
     "name": "stdout",
     "output_type": "stream",
     "text": [
      "['apple', 'banana', 'blueberries', 'mango', 'orange', 'pineapple', 'strawberry', 'watermelon']\n"
     ]
    }
   ],
   "source": [
    "fruits2=fruits.copy()\n",
    "print(fruits2)"
   ]
  },
  {
   "cell_type": "code",
   "execution_count": 29,
   "id": "4c8e2024",
   "metadata": {},
   "outputs": [
    {
     "name": "stdout",
     "output_type": "stream",
     "text": [
      "['apple', 'banana', 'blueberries', 'mango', 'orange', 'pineapple', 'strawberry', 'watermelon']\n"
     ]
    }
   ],
   "source": [
    "print(fruits)"
   ]
  },
  {
   "cell_type": "code",
   "execution_count": null,
   "id": "07f04540",
   "metadata": {},
   "outputs": [],
   "source": [
    "### Exercise \n",
    "## make a list of five state in nigeria using a list"
   ]
  },
  {
   "cell_type": "code",
   "execution_count": 30,
   "id": "b13c70af",
   "metadata": {},
   "outputs": [],
   "source": [
    "## Dictionary\n",
    "## Dictionary changeable\n",
    "## Dictionary uses curly bracket to idenitification {}\n",
    "## Dictionary use the key to locate the element."
   ]
  },
  {
   "cell_type": "code",
   "execution_count": 2,
   "id": "dcf50f15",
   "metadata": {},
   "outputs": [
    {
     "name": "stdout",
     "output_type": "stream",
     "text": [
      "<class 'dict'>\n",
      "{'Name': 'Emmanuel', 'Age': 40, 'Marital_status': 'Married', 'Date': '04-11-2023', 'Gender': 'Male'}\n"
     ]
    }
   ],
   "source": [
    "human={\n",
    "    \"Name\":\"Emmanuel\",\n",
    "    \"Age\":40,\n",
    "    \"Marital_status\":\"Married\",\n",
    "    \"Date\":\"04-11-2023\",\n",
    "    \"Gender\":\"Male\"}\n",
    "print(type(human))\n",
    "print(human)"
   ]
  },
  {
   "cell_type": "code",
   "execution_count": 3,
   "id": "6ef40125",
   "metadata": {},
   "outputs": [
    {
     "name": "stdout",
     "output_type": "stream",
     "text": [
      "dict_values(['Emmanuel', 40, 'Married', '04-11-2023', 'Male'])\n",
      "dict_keys(['Name', 'Age', 'Marital_status', 'Date', 'Gender'])\n"
     ]
    }
   ],
   "source": [
    "print(human.values())\n",
    "print(human.keys())"
   ]
  },
  {
   "cell_type": "code",
   "execution_count": 4,
   "id": "8fa1f49e",
   "metadata": {},
   "outputs": [
    {
     "name": "stdout",
     "output_type": "stream",
     "text": [
      "Emmanuel\n"
     ]
    }
   ],
   "source": [
    "print(human[\"Name\"])"
   ]
  },
  {
   "cell_type": "code",
   "execution_count": 7,
   "id": "d76eff24",
   "metadata": {},
   "outputs": [
    {
     "name": "stdout",
     "output_type": "stream",
     "text": [
      "{'Name': 'Emmanuel', 'Age': 40, 'Marital_status': 'Married', 'Date': '04-11-2023', 'Gender': 'Male', 'height': 1.97}\n"
     ]
    }
   ],
   "source": [
    "## adding a value inside a dictionary\n",
    "r=({\"height\":1.97})\n",
    "human.update(r)\n",
    "print(human)"
   ]
  },
  {
   "cell_type": "code",
   "execution_count": 8,
   "id": "a7ed9f7d",
   "metadata": {},
   "outputs": [
    {
     "name": "stdout",
     "output_type": "stream",
     "text": [
      "{'Name': 'Emmanuel', 'Age': 40, 'Marital_status': 'Married', 'Date': '04-11-2023', 'Gender': 'Male', 'height': 1.97, 'height2': [1.92]}\n"
     ]
    }
   ],
   "source": [
    "## method2\n",
    "human[\"height2\"]=[1.92]\n",
    "print(human)"
   ]
  },
  {
   "cell_type": "code",
   "execution_count": 9,
   "id": "70bd07bb",
   "metadata": {},
   "outputs": [
    {
     "name": "stdout",
     "output_type": "stream",
     "text": [
      "{'Name': 'Emmanuel', 'Age': 40, 'Marital_status': 'Married', 'Date': '04-11-2023', 'Gender': 'Female', 'height': 1.97, 'height2': [1.92]}\n"
     ]
    }
   ],
   "source": [
    "## modify a particular value.\n",
    "human[\"Gender\"]= \"Female\"\n",
    "print(human)"
   ]
  },
  {
   "cell_type": "code",
   "execution_count": 10,
   "id": "34341657",
   "metadata": {},
   "outputs": [],
   "source": [
    "del human[\"height2\"]"
   ]
  },
  {
   "cell_type": "code",
   "execution_count": 11,
   "id": "f652d6b5",
   "metadata": {},
   "outputs": [
    {
     "name": "stdout",
     "output_type": "stream",
     "text": [
      "{'Name': 'Emmanuel', 'Age': 40, 'Marital_status': 'Married', 'Date': '04-11-2023', 'Gender': 'Female', 'height': 1.97}\n"
     ]
    }
   ],
   "source": [
    "print(human)"
   ]
  },
  {
   "cell_type": "code",
   "execution_count": 14,
   "id": "367dbcf4",
   "metadata": {},
   "outputs": [
    {
     "name": "stdout",
     "output_type": "stream",
     "text": [
      "david\n"
     ]
    }
   ],
   "source": [
    "## Exercise\n",
    "## create a dictionary of students name and subects in which they offered.\n",
    "students={\n",
    "    \"name\":{\"name1\":\"david\",\"name2\":\"Joy\",\"name3\":\"musa\"},\n",
    "    \"Subjects\":{\"subject1\":\"Futhermaths\",\"subject2\":\"biology\",\"subject3\":\"English\"}}\n",
    "print(students[\"name\"][\"name1\"])"
   ]
  },
  {
   "cell_type": "code",
   "execution_count": null,
   "id": "b4c55d5a",
   "metadata": {},
   "outputs": [],
   "source": []
  }
 ],
 "metadata": {
  "kernelspec": {
   "display_name": "Python 3 (ipykernel)",
   "language": "python",
   "name": "python3"
  },
  "language_info": {
   "codemirror_mode": {
    "name": "ipython",
    "version": 3
   },
   "file_extension": ".py",
   "mimetype": "text/x-python",
   "name": "python",
   "nbconvert_exporter": "python",
   "pygments_lexer": "ipython3",
   "version": "3.12.1"
  }
 },
 "nbformat": 4,
 "nbformat_minor": 5
}
